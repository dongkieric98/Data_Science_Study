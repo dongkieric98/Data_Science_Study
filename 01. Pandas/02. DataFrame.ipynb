{
 "cells": [
  {
   "cell_type": "markdown",
   "metadata": {},
   "source": [
    "# 02. DataFrame"
   ]
  },
  {
   "cell_type": "markdown",
   "metadata": {},
   "source": [
    "### 01. 데이터 프레임 생성"
   ]
  },
  {
   "cell_type": "code",
   "execution_count": 2,
   "metadata": {},
   "outputs": [],
   "source": [
    "import pandas as pd\n",
    "\n",
    "# 딕셔너리로 데이터프레임 생성\n",
    "data_dict = {\n",
    "        '이름' : ['김', '이', '박'],\n",
    "        '나이' : [10, 20, 30],\n",
    "        '성별' : ['남', '여', '남']\n",
    "}\n",
    "df = pd.DataFrame(data_dict)"
   ]
  },
  {
   "cell_type": "code",
   "execution_count": 6,
   "metadata": {},
   "outputs": [],
   "source": [
    "# 리스트로 데이터프레임 생성\n",
    "columns = ['이름', '나이', '성별']\n",
    "data_list = [['김', 10, '남'],\n",
    "             ['이', 20, '여'],\n",
    "             ['박', 30, '남']]\n",
    "\n",
    "df = pd.DataFrame(data=data_list, columns=columns)"
   ]
  },
  {
   "cell_type": "code",
   "execution_count": 14,
   "metadata": {},
   "outputs": [
    {
     "data": {
      "text/html": [
       "<div>\n",
       "<style scoped>\n",
       "    .dataframe tbody tr th:only-of-type {\n",
       "        vertical-align: middle;\n",
       "    }\n",
       "\n",
       "    .dataframe tbody tr th {\n",
       "        vertical-align: top;\n",
       "    }\n",
       "\n",
       "    .dataframe thead th {\n",
       "        text-align: right;\n",
       "    }\n",
       "</style>\n",
       "<table border=\"1\" class=\"dataframe\">\n",
       "  <thead>\n",
       "    <tr style=\"text-align: right;\">\n",
       "      <th></th>\n",
       "      <th>V1</th>\n",
       "      <th>V2</th>\n",
       "      <th>Value</th>\n",
       "    </tr>\n",
       "  </thead>\n",
       "  <tbody>\n",
       "    <tr>\n",
       "      <th>0</th>\n",
       "      <td>10</td>\n",
       "      <td>100</td>\n",
       "      <td>1</td>\n",
       "    </tr>\n",
       "    <tr>\n",
       "      <th>1</th>\n",
       "      <td>20</td>\n",
       "      <td>200</td>\n",
       "      <td>2</td>\n",
       "    </tr>\n",
       "    <tr>\n",
       "      <th>2</th>\n",
       "      <td>30</td>\n",
       "      <td>300</td>\n",
       "      <td>3</td>\n",
       "    </tr>\n",
       "    <tr>\n",
       "      <th>3</th>\n",
       "      <td>40</td>\n",
       "      <td>400</td>\n",
       "      <td>4</td>\n",
       "    </tr>\n",
       "    <tr>\n",
       "      <th>4</th>\n",
       "      <td>50</td>\n",
       "      <td>500</td>\n",
       "      <td>5</td>\n",
       "    </tr>\n",
       "  </tbody>\n",
       "</table>\n",
       "</div>"
      ],
      "text/plain": [
       "   V1   V2  Value\n",
       "0  10  100      1\n",
       "1  20  200      2\n",
       "2  30  300      3\n",
       "3  40  400      4\n",
       "4  50  500      5"
      ]
     },
     "execution_count": 14,
     "metadata": {},
     "output_type": "execute_result"
    }
   ],
   "source": [
    "# 하나의 시리즈를 하나의 데이터프레임으로 변환\n",
    "series = pd.Series([1,2,3,4,5], name='Value')\n",
    "df1 = pd.DataFrame(series)\n",
    "df2 = series.to_frame()\n",
    "\n",
    "# 여러개의 시리즈를 하나의 데이터프레임으로 변환\n",
    "series1 = pd.Series([10, 20, 30, 40, 50], name='V1')\n",
    "series2 = pd.Series([100, 200, 300, 400, 500], name='V2')\n",
    "df3 = pd.concat([series1, series2], axis=1)\n",
    "\n",
    "# 데이터프레임에 시리즈 병합\n",
    "df4 = pd.concat([df3, series], axis=1)"
   ]
  },
  {
   "cell_type": "markdown",
   "metadata": {},
   "source": [
    "### 02. 데이터프레임 속성과 메서드"
   ]
  },
  {
   "cell_type": "code",
   "execution_count": 27,
   "metadata": {},
   "outputs": [],
   "source": [
    "# 데이터 프레임 생성\n",
    "names = ['철수', '영희', '짱구', '맹구']\n",
    "ages = [10, 11, 13, 15]\n",
    "genders = ['M', 'W', 'M', 'M']\n",
    "cities = ['서울', '대전', '부산', '천안']\n",
    "\n",
    "data = {'이름':names, '나이':ages, '성별':genders, '도시':cities}\n",
    "df = pd.DataFrame(data)"
   ]
  },
  {
   "cell_type": "code",
   "execution_count": null,
   "metadata": {},
   "outputs": [],
   "source": [
    "# 열(Columns) 이름 확인\n",
    "df.columns\n",
    "\n",
    "# 인덱스(index) 확인\n",
    "df.index\n",
    "\n",
    "# 데이터 값(Values) 확인\n",
    "df.values\n",
    "\n",
    "# 각 열의 변수 타입(dtypes) 확인\n",
    "df.dtypes\n",
    "\n",
    "# 데이터 앞/뒷부분 확인\n",
    "df.head(2)\n",
    "df.tail(2)\n",
    "\n",
    "# DataFrame 정보 확인\n",
    "df.info()\n",
    "\n",
    "# DataFrame 형태(Shape) 확인\n",
    "df.shape\n",
    "\n",
    "# DataFrame 길이(Len) 확인\n",
    "len(df)\n",
    "\n",
    "# DataFrame 크기(Size) 확인\n",
    "df.size\n",
    "\n",
    "# DataFrame 통계값(Describe) 확인\n",
    "df.describe()"
   ]
  },
  {
   "cell_type": "markdown",
   "metadata": {},
   "source": [
    "### 03. 데이터프레임의 인덱싱과 슬라이싱"
   ]
  },
  {
   "cell_type": "code",
   "execution_count": 40,
   "metadata": {},
   "outputs": [],
   "source": [
    "import pandas as pd\n",
    "\n",
    "# DataFrame 생성하기\n",
    "data_dict = {\n",
    "    '이름': ['홍길동', '김철수', '이영희', '박지원', '장민주', '신동호', '김민지', '이하늘', '정승우', '한지혜'],\n",
    "    '나이': [25, 30, 28, 22, 29, 27, 24, 26, None, 23],\n",
    "    '성별': ['남', '남', '여', '남', '여', '남', '여', '여', None, '여']\n",
    "}\n",
    "\n",
    "df = pd.DataFrame(data_dict)\n",
    "df.index = [1,2,3,4,5,6,7,8,9,10]"
   ]
  },
  {
   "cell_type": "code",
   "execution_count": 59,
   "metadata": {},
   "outputs": [],
   "source": [
    "# 레이블 기반 인덱싱과 슬라이싱\n",
    "index1 = df.loc[1]\n",
    "slice1 = df.loc[1:3]\n",
    "\n",
    "# 특정 컬럼의 레이블 기반 인덱싱과 슬라이싱\n",
    "index2 = df.loc[1, '나이']\n",
    "slice2 = df.loc[1:3, '나이']\n",
    "\n",
    "# 정수 위치 기반 인덱싱과 슬라이싱\n",
    "index3 = df.iloc[1]\n",
    "slice3 = df.iloc[1:3]\n",
    "\n",
    "# 특정 컬럼의 정수 위치 기반 인덱싱과 슬라이싱 - 모두 숫자\n",
    "index4 = df.iloc[1, 1]\n",
    "slice4 = df.iloc[1, 1:3]"
   ]
  },
  {
   "cell_type": "markdown",
   "metadata": {},
   "source": [
    "### 04. 데이터프레임의 데이터 필터링"
   ]
  },
  {
   "cell_type": "code",
   "execution_count": 64,
   "metadata": {},
   "outputs": [
    {
     "data": {
      "text/html": [
       "<div>\n",
       "<style scoped>\n",
       "    .dataframe tbody tr th:only-of-type {\n",
       "        vertical-align: middle;\n",
       "    }\n",
       "\n",
       "    .dataframe tbody tr th {\n",
       "        vertical-align: top;\n",
       "    }\n",
       "\n",
       "    .dataframe thead th {\n",
       "        text-align: right;\n",
       "    }\n",
       "</style>\n",
       "<table border=\"1\" class=\"dataframe\">\n",
       "  <thead>\n",
       "    <tr style=\"text-align: right;\">\n",
       "      <th></th>\n",
       "      <th>이름</th>\n",
       "      <th>나이</th>\n",
       "      <th>성별</th>\n",
       "    </tr>\n",
       "  </thead>\n",
       "  <tbody>\n",
       "    <tr>\n",
       "      <th>1</th>\n",
       "      <td>홍길동</td>\n",
       "      <td>25.0</td>\n",
       "      <td>남</td>\n",
       "    </tr>\n",
       "    <tr>\n",
       "      <th>2</th>\n",
       "      <td>김철수</td>\n",
       "      <td>30.0</td>\n",
       "      <td>남</td>\n",
       "    </tr>\n",
       "    <tr>\n",
       "      <th>3</th>\n",
       "      <td>이영희</td>\n",
       "      <td>28.0</td>\n",
       "      <td>여</td>\n",
       "    </tr>\n",
       "    <tr>\n",
       "      <th>4</th>\n",
       "      <td>박지원</td>\n",
       "      <td>22.0</td>\n",
       "      <td>남</td>\n",
       "    </tr>\n",
       "    <tr>\n",
       "      <th>5</th>\n",
       "      <td>장민주</td>\n",
       "      <td>29.0</td>\n",
       "      <td>여</td>\n",
       "    </tr>\n",
       "    <tr>\n",
       "      <th>6</th>\n",
       "      <td>신동호</td>\n",
       "      <td>27.0</td>\n",
       "      <td>남</td>\n",
       "    </tr>\n",
       "    <tr>\n",
       "      <th>7</th>\n",
       "      <td>김민지</td>\n",
       "      <td>24.0</td>\n",
       "      <td>여</td>\n",
       "    </tr>\n",
       "    <tr>\n",
       "      <th>8</th>\n",
       "      <td>이하늘</td>\n",
       "      <td>26.0</td>\n",
       "      <td>여</td>\n",
       "    </tr>\n",
       "    <tr>\n",
       "      <th>9</th>\n",
       "      <td>정승우</td>\n",
       "      <td>NaN</td>\n",
       "      <td>None</td>\n",
       "    </tr>\n",
       "    <tr>\n",
       "      <th>10</th>\n",
       "      <td>한지혜</td>\n",
       "      <td>23.0</td>\n",
       "      <td>여</td>\n",
       "    </tr>\n",
       "  </tbody>\n",
       "</table>\n",
       "</div>"
      ],
      "text/plain": [
       "     이름    나이    성별\n",
       "1   홍길동  25.0     남\n",
       "2   김철수  30.0     남\n",
       "3   이영희  28.0     여\n",
       "4   박지원  22.0     남\n",
       "5   장민주  29.0     여\n",
       "6   신동호  27.0     남\n",
       "7   김민지  24.0     여\n",
       "8   이하늘  26.0     여\n",
       "9   정승우   NaN  None\n",
       "10  한지혜  23.0     여"
      ]
     },
     "execution_count": 64,
     "metadata": {},
     "output_type": "execute_result"
    }
   ],
   "source": [
    "import pandas as pd\n",
    "\n",
    "# DataFrame 생성\n",
    "data_dict = {\n",
    "    '이름': ['홍길동', '김철수', '이영희', '박지원', '장민주', '신동호', '김민지', '이하늘', '정승우', '한지혜'],\n",
    "    '나이': [25, 30, 28, 22, 29, 27, 24, 26, None, 23],\n",
    "    '성별': ['남', '남', '여', '남', '여', '남', '여', '여', None, '여']\n",
    "}\n",
    "df = pd.DataFrame(data_dict)\n",
    "df.index = [1,2,3,4,5,6,7,8,9,10]\n",
    "df"
   ]
  },
  {
   "cell_type": "code",
   "execution_count": 67,
   "metadata": {},
   "outputs": [],
   "source": [
    "# 조건을 이용한 필터링1\n",
    "df1 = df[df['나이']>=28]\n",
    "\n",
    "# 조건을 이용한 필터링2 - isin\n",
    "df2 = df[df['이름'].isin(['홍길동', '김철수'])]\n",
    "\n",
    "# 조건을 이용한 필터링3 - str.contains()\n",
    "df3 = df[df['이름'].str.contains('지원')]"
   ]
  },
  {
   "cell_type": "code",
   "execution_count": 73,
   "metadata": {},
   "outputs": [],
   "source": [
    "# AND 조건을 이용한 필터링\n",
    "df4 = df[(df['나이']>25) & (df['성별']=='남')]\n",
    "\n",
    "# OR 조건을 이용한 필터링\n",
    "df5 = df[(df['나이']>25) | (df['성별']=='여자')]\n",
    "\n",
    "# NOT 조건을 이용한 필터링\n",
    "df6 = df[df['성별'] != '남자']"
   ]
  },
  {
   "cell_type": "markdown",
   "metadata": {},
   "source": [
    "### 05. 데이터프레임 열 조작과 정렬"
   ]
  },
  {
   "cell_type": "code",
   "execution_count": 98,
   "metadata": {},
   "outputs": [],
   "source": [
    "import pandas as pd\n",
    "\n",
    "# DataFrame 생성하기\n",
    "data_dict = {\n",
    "    '이름': ['홍길동', '김철수', '이영희', '박지원', '장민주', '신동호', '김민지', '이하늘', '정승우', '한지혜'],\n",
    "    '나이': [25, 30, 28, 22, 29, 27, 24, 26, None, 23],\n",
    "    '성별': ['남', '남', '여', '남', '여', '남', '여', '여', None, '여']\n",
    "}\n",
    "df = pd.DataFrame(data_dict)\n",
    "df.index = [1,2,3,4,5,6,7,8,9,10]"
   ]
  },
  {
   "cell_type": "code",
   "execution_count": 99,
   "metadata": {},
   "outputs": [],
   "source": [
    "# 특정 열 선택\n",
    "df1 = df['나이']\n",
    "\n",
    "# 열 추가\n",
    "heights = [170, 175, 160, 130, 140, 150, 160, 170, 180, 190]\n",
    "df['키'] = heights\n",
    "\n",
    "# 열 삭제 - axis(행/열), inplace(원본수정여부)\n",
    "df3 = df.drop(['키'], axis=1, inplace=True)\n",
    "\n",
    "# 열 이름 변경 - 바꾸고자 하는 columns\n",
    "columns = {'이름':'Name', '나이':'Age', '성별':'Gender'}\n",
    "df4 = df.rename(columns=columns, inplace=True)\n",
    "\n",
    "# 특정 열을 기준으로 정렬\n",
    "df5 = df.sort_values(by='Age', inplace=True)\n",
    "\n",
    "# 내림차순으로 정렬\n",
    "df6 = df.sort_values(by='Age', ascending=False)\n",
    "\n",
    "# 인덱스 재정렬 - drop(기존 인덱스 제거여부)\n",
    "df7 = df.reset_index(drop=True)"
   ]
  },
  {
   "cell_type": "markdown",
   "metadata": {},
   "source": [
    "### 06. 데이터 조작 심화"
   ]
  },
  {
   "cell_type": "code",
   "execution_count": 2,
   "metadata": {},
   "outputs": [],
   "source": [
    "import pandas as pd\n",
    "\n",
    "# DataFrame 생성\n",
    "data_dict = {\n",
    "    '이름': ['홍길동', '김철수', '이영희', '박지원', '장민주', '신동호', '김민지', '이하늘', '정승우', '한지혜'],\n",
    "    '나이': [25, 30, 28, 22, 29, 27, 24, 26, 20, 23],\n",
    "    '성별': ['남', '남', '여', '남', '여', '남', '여', '여', '여', '여']\n",
    "}\n",
    "df = pd.DataFrame(data_dict)\n",
    "df.index = [1,2,3,4,5,6,7,8,9,10]"
   ]
  },
  {
   "cell_type": "code",
   "execution_count": 10,
   "metadata": {},
   "outputs": [],
   "source": [
    "# Apply 열 연산1 - def\n",
    "def age_category(age):\n",
    "    if age < 30:\n",
    "        return 'Young'\n",
    "    else:\n",
    "        return 'Adult'\n",
    "    \n",
    "df['연령대'] = df['나이'].apply(age_category)\n",
    "\n",
    "\n",
    "# Apply 열 연산2 - lambda\n",
    "df['연령대'] = df.apply(lambda x: 'Young' if x['나이'] < 30 else 'Adult', axis=1)\n",
    "\n",
    "\n",
    "# 여러 컬럼을 사용한 Apply 연산\n",
    "def combine_age_gender(age, gender):\n",
    "    return f'{age}세 {gender}'\n",
    "\n",
    "df['나이와 성별'] = df.apply(lambda row: combine_age_gender(row['나이'], row['성별']), axis=1)"
   ]
  },
  {
   "cell_type": "code",
   "execution_count": 11,
   "metadata": {},
   "outputs": [
    {
     "name": "stderr",
     "output_type": "stream",
     "text": [
      "C:\\Users\\NT930QCG\\AppData\\Local\\Temp\\ipykernel_26184\\3783860275.py:2: FutureWarning: DataFrame.applymap has been deprecated. Use DataFrame.map instead.\n",
      "  df_str = df.applymap(lambda x: str(x))\n"
     ]
    }
   ],
   "source": [
    "# ApplyMap 함수 사용 - 데이터프레임의 각 요소에 주어진 함수 적용\n",
    "df_str = df.applymap(lambda x: str(x))"
   ]
  },
  {
   "cell_type": "code",
   "execution_count": 13,
   "metadata": {},
   "outputs": [
    {
     "name": "stdout",
     "output_type": "stream",
     "text": [
      "인덱스: 1\n",
      "이름: 홍길동, 나이:25, 성별:남\n",
      "--------------------\n",
      "인덱스: 2\n",
      "이름: 김철수, 나이:30, 성별:남\n",
      "--------------------\n",
      "인덱스: 3\n",
      "이름: 이영희, 나이:28, 성별:여\n",
      "--------------------\n",
      "인덱스: 4\n",
      "이름: 박지원, 나이:22, 성별:남\n",
      "--------------------\n",
      "인덱스: 5\n",
      "이름: 장민주, 나이:29, 성별:여\n",
      "--------------------\n",
      "인덱스: 6\n",
      "이름: 신동호, 나이:27, 성별:남\n",
      "--------------------\n",
      "인덱스: 7\n",
      "이름: 김민지, 나이:24, 성별:여\n",
      "--------------------\n",
      "인덱스: 8\n",
      "이름: 이하늘, 나이:26, 성별:여\n",
      "--------------------\n",
      "인덱스: 9\n",
      "이름: 정승우, 나이:20, 성별:여\n",
      "--------------------\n",
      "인덱스: 10\n",
      "이름: 한지혜, 나이:23, 성별:여\n",
      "--------------------\n"
     ]
    }
   ],
   "source": [
    "# for문과 데이터프레임 - 각 행을 (인덱스, 시리즈) 쌍으로 반환\n",
    "for index, row in df.iterrows():\n",
    "    print(f\"인덱스: {index}\")\n",
    "    print(f\"이름: {row['이름']}, 나이:{row['나이']}, 성별:{row['성별']}\")\n",
    "    print(\"-\" * 20)"
   ]
  },
  {
   "cell_type": "code",
   "execution_count": 14,
   "metadata": {},
   "outputs": [
    {
     "data": {
      "text/plain": [
       "성별\n",
       "남    26.0\n",
       "여    25.0\n",
       "Name: 나이, dtype: float64"
      ]
     },
     "execution_count": 14,
     "metadata": {},
     "output_type": "execute_result"
    }
   ],
   "source": [
    "# Groupby 사용하기\n",
    "df.groupby('성별')['나이'].mean()"
   ]
  },
  {
   "cell_type": "code",
   "execution_count": 15,
   "metadata": {},
   "outputs": [
    {
     "data": {
      "text/plain": [
       "min       20.0\n",
       "max       30.0\n",
       "mean      25.4\n",
       "median    25.5\n",
       "Name: 나이, dtype: float64"
      ]
     },
     "execution_count": 15,
     "metadata": {},
     "output_type": "execute_result"
    }
   ],
   "source": [
    "# Agg 사용하기 - 데이터를 집계하는데 사용\n",
    "df['나이'].agg(['min', 'max', 'mean', 'median'])"
   ]
  }
 ],
 "metadata": {
  "kernelspec": {
   "display_name": "Python 3",
   "language": "python",
   "name": "python3"
  },
  "language_info": {
   "codemirror_mode": {
    "name": "ipython",
    "version": 3
   },
   "file_extension": ".py",
   "mimetype": "text/x-python",
   "name": "python",
   "nbconvert_exporter": "python",
   "pygments_lexer": "ipython3",
   "version": "3.9.5"
  }
 },
 "nbformat": 4,
 "nbformat_minor": 2
}
