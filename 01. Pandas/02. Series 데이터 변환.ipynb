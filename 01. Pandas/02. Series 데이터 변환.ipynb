{
 "cells": [
  {
   "cell_type": "markdown",
   "metadata": {},
   "source": [
    "# 02. 데이터 변환"
   ]
  },
  {
   "cell_type": "markdown",
   "metadata": {},
   "source": [
    "### 01. apply 메서드\n",
    "###### Series 또는 DataFrame에 있는 각 데이터에 대해 일정한 연산을 적용할 때 사용한다."
   ]
  },
  {
   "cell_type": "code",
   "execution_count": 1,
   "metadata": {},
   "outputs": [],
   "source": [
    "# 시리즈 생성하기\n",
    "import pandas as pd\n",
    "\n",
    "data = [1,2,3,4]\n",
    "series = pd.Series(data)"
   ]
  },
  {
   "cell_type": "code",
   "execution_count": 2,
   "metadata": {},
   "outputs": [],
   "source": [
    "# apply method\n",
    "def custom_function(x):\n",
    "    if x >= 3:\n",
    "        result = x + 2\n",
    "    else:\n",
    "        result = x + 4\n",
    "    return result\n",
    "\n",
    "result_series = series.apply(custom_function)"
   ]
  },
  {
   "cell_type": "markdown",
   "metadata": {},
   "source": [
    "### 02. apply 메서드와 lambda 함수"
   ]
  },
  {
   "cell_type": "code",
   "execution_count": 5,
   "metadata": {},
   "outputs": [],
   "source": [
    "# lambda 함수\n",
    "result_series = series.apply(lambda x: x+2 if x >= 3 else x + 4)"
   ]
  },
  {
   "cell_type": "markdown",
   "metadata": {},
   "source": [
    "### 03. Map 메서드\n",
    "###### Series의 각 요소에 적용 (Series만 적용하고 DataFrame에는 적용X)"
   ]
  },
  {
   "cell_type": "code",
   "execution_count": 7,
   "metadata": {},
   "outputs": [],
   "source": [
    "# Map Method\n",
    "result_series = series.map(lambda x: x**2)"
   ]
  },
  {
   "cell_type": "markdown",
   "metadata": {},
   "source": [
    "### 04. Replace 메서드\n",
    "###### [1] replace(a,b) 형식으로 a를 b로 변경한다는 형식\n",
    "###### [2] 여러개의 값을 한번에 변경할 경우 딕셔너리 형식을 이용\n",
    "###### [3] 정규 표현식을 사용할 경우 regex=True를 적용하기"
   ]
  },
  {
   "cell_type": "code",
   "execution_count": 15,
   "metadata": {},
   "outputs": [],
   "source": [
    "data = ['apple', 'banana', 'orange']\n",
    "series = pd.Series(data)\n",
    "\n",
    "# Replace - 하나의 값 변경\n",
    "result_series1 = series.replace('apple', 'banana')\n",
    "\n",
    "# Replace - 여러개의 값 변경 - 딕셔너리 형식\n",
    "result_series2 = series.replace({'apple':'shark', 'banana':'lion'})\n",
    "\n",
    "# Replace - 정규 표현식 사용\n",
    "result_series3 = series.replace('^a', 'fruit', regex=True)"
   ]
  },
  {
   "cell_type": "markdown",
   "metadata": {},
   "source": [
    "### 05. Cut 함수\n",
    "###### cut(data, bins, labels)형식으로 data에는 적용할 data, bins에는 나눌 구간, labels에는 변경된 구간에 대한 이름을 적용"
   ]
  },
  {
   "cell_type": "code",
   "execution_count": 17,
   "metadata": {},
   "outputs": [],
   "source": [
    "# Series 생성하기\n",
    "data = [10, 20, 30, 40, 50]\n",
    "series = pd.Series(data)\n",
    "\n",
    "# 구간 정의하기\n",
    "bins = [0, 30, 60]\n",
    "\n",
    "# 라벨 만들기\n",
    "labels = ['Low', 'High']\n",
    "result_series = pd.cut(data, bins=bins, labels=labels)"
   ]
  }
 ],
 "metadata": {
  "kernelspec": {
   "display_name": "Python 3",
   "language": "python",
   "name": "python3"
  },
  "language_info": {
   "codemirror_mode": {
    "name": "ipython",
    "version": 3
   },
   "file_extension": ".py",
   "mimetype": "text/x-python",
   "name": "python",
   "nbconvert_exporter": "python",
   "pygments_lexer": "ipython3",
   "version": "3.9.5"
  }
 },
 "nbformat": 4,
 "nbformat_minor": 2
}
