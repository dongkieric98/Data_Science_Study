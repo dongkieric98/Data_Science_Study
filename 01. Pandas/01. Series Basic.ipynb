{
 "cells": [
  {
   "cell_type": "markdown",
   "metadata": {},
   "source": [
    "# 01. Series"
   ]
  },
  {
   "cell_type": "markdown",
   "metadata": {},
   "source": [
    "### 01. Series 생성"
   ]
  },
  {
   "cell_type": "code",
   "execution_count": 3,
   "metadata": {},
   "outputs": [],
   "source": [
    "import pandas as pd\n",
    "import numpy as np\n",
    "data = [10, 20, 30, 40]\n",
    "\n",
    "# 리스트(List)로 시리즈 생성\n",
    "series1 = pd.Series(data)\n",
    "\n",
    "# 배열(Array)로 시리즈 생성\n",
    "np_data = np.array(data)\n",
    "series2 = pd.Series(np_data)\n",
    "\n",
    "# 딕셔너리(Dictionary)로 시리즈 생성\n",
    "data_dict = {\n",
    "        'a' : 10,\n",
    "        'b' : 20,\n",
    "        'c' : 30,\n",
    "        'd' : 40\n",
    "}\n",
    "series3 = pd.Series(data_dict)"
   ]
  },
  {
   "cell_type": "markdown",
   "metadata": {},
   "source": [
    "### 02. Series 파라미터"
   ]
  },
  {
   "cell_type": "code",
   "execution_count": 5,
   "metadata": {},
   "outputs": [],
   "source": [
    "data = [10, 20, 30, 40]\n",
    "index = ['a', 'b', 'c', 'd']\n",
    "series = pd.Series(data, index=index, name='MySeries', dtype='int32')"
   ]
  },
  {
   "cell_type": "markdown",
   "metadata": {},
   "source": [
    "### 03. Series 확인"
   ]
  },
  {
   "cell_type": "code",
   "execution_count": 6,
   "metadata": {},
   "outputs": [],
   "source": [
    "# 시리즈 생성하기\n",
    "data = [10, 20, 30, 40]\n",
    "index = ['a', 'b', 'c', 'd']\n",
    "series = pd.Series(data, index=index, name='MySeries', dtype='int32')"
   ]
  },
  {
   "cell_type": "code",
   "execution_count": null,
   "metadata": {},
   "outputs": [],
   "source": [
    "# 시리즈 값 확인\n",
    "value = series.values\n",
    "\n",
    "# 시리즈 인덱스 확인\n",
    "index = series.index\n",
    "\n",
    "# 시리즈 이름 확인\n",
    "name = series.name\n",
    "\n",
    "# 시리즈 이름 변경\n",
    "series.name = 'new name'\n",
    "\n",
    "# 시리즈 타입 확인\n",
    "series.dtype\n",
    "\n",
    "# 시리즈 타입 변경\n",
    "series.astype('float')\n",
    "\n",
    "# 시리즈 앞부분 확인\n",
    "series.head(5)\n",
    "\n",
    "# 시리즈 뒷부분 확인\n",
    "series.tail(5)\n",
    "\n",
    "# 시리즈 통계값 확인\n",
    "series.describe()"
   ]
  },
  {
   "cell_type": "markdown",
   "metadata": {},
   "source": [
    "### 04. Series 연산"
   ]
  },
  {
   "cell_type": "code",
   "execution_count": 7,
   "metadata": {},
   "outputs": [],
   "source": [
    "# Series 생성\n",
    "data1 = [10, 20, 30, 40]\n",
    "data2 = [1, 2, 3, 4]\n",
    "index = ['a', 'b', 'c', 'd']\n",
    "\n",
    "series1 = pd.Series(data, index=index)\n",
    "series2 = pd.Series(data, index=index)"
   ]
  },
  {
   "cell_type": "code",
   "execution_count": null,
   "metadata": {},
   "outputs": [],
   "source": [
    "# Series 사칙연산\n",
    "add = series1 + series2\n",
    "sub = series1 - series2\n",
    "mul = series1 * series2\n",
    "div = series1 / series2\n",
    " \n",
    "# Series 상수 연산\n",
    "add = series1 + 1\n",
    "\n",
    "# Series 지수 연산\n",
    "exp = series1 ** 2\n",
    "\n",
    "# Series 로그 연산\n",
    "log = np.log(series1)\n",
    "\n",
    "# Series 다양한 연산\n",
    "sum = series1.sum()\n",
    "mean = series1.mean()\n",
    "max = series1.max()\n",
    "min = series1.min()\n",
    "std = series1.std()\n",
    "var = series1.var()\n",
    "med = series1.median()\n",
    "qua = series1.quantile(0.25)\n",
    "cnt = series1.count()"
   ]
  },
  {
   "cell_type": "markdown",
   "metadata": {},
   "source": [
    "### 05. Series 접근"
   ]
  },
  {
   "cell_type": "code",
   "execution_count": 8,
   "metadata": {},
   "outputs": [],
   "source": [
    "import pandas as pd\n",
    "\n",
    "# Series 생성\n",
    "data = [10, 20, 30, 40, 50, 60, 70, 80, 90]\n",
    "index = ['a', 'b', 'c', 'd', 'e', 'f', 'g', 'h', 'i']\n",
    "series = pd.Series(data, index=index, name='MySeries', dtype='int32')"
   ]
  },
  {
   "cell_type": "code",
   "execution_count": null,
   "metadata": {},
   "outputs": [],
   "source": [
    "# 대괄호 기반 인덱싱\n",
    "index1 = series['b']\n",
    "index2 = series[3]\n",
    "\n",
    "# 대괄호 기반 슬리이싱\n",
    "slice1 = series['b':'d']\n",
    "slice2 = series[2:5]"
   ]
  },
  {
   "cell_type": "code",
   "execution_count": null,
   "metadata": {},
   "outputs": [],
   "source": [
    "# Label 기반 인덱싱\n",
    "index3 = series.loc['b']\n",
    "\n",
    "# Label 기반 슬라이싱\n",
    "slice3 = series.loc['b':'d']"
   ]
  },
  {
   "cell_type": "code",
   "execution_count": null,
   "metadata": {},
   "outputs": [],
   "source": [
    "# 정수 기반 인덱싱\n",
    "index4 = series.iloc[2]\n",
    "\n",
    "# 정수 기반 슬라이싱\n",
    "slice4 = series.iloc[2:5]"
   ]
  },
  {
   "cell_type": "code",
   "execution_count": null,
   "metadata": {},
   "outputs": [],
   "source": [
    "# 조건에 따른 필터링\n",
    "condition = series >= 30\n",
    "filter = series[condition]"
   ]
  },
  {
   "cell_type": "markdown",
   "metadata": {},
   "source": [
    "### 06. Series 정렬, 순위"
   ]
  },
  {
   "cell_type": "code",
   "execution_count": 9,
   "metadata": {},
   "outputs": [],
   "source": [
    "import pandas as pd\n",
    "\n",
    "# Series 생성\n",
    "data = [10, 20, 30, 40, 50, 60, 70, 80, 90]\n",
    "index = ['a', 'b', 'c', 'd', 'e', 'f', 'g', 'h', 'i']\n",
    "series = pd.Series(data, index=index, name='MySeries', dtype='int32')"
   ]
  },
  {
   "cell_type": "code",
   "execution_count": 12,
   "metadata": {},
   "outputs": [
    {
     "data": {
      "text/plain": [
       "a    9.0\n",
       "b    8.0\n",
       "c    7.0\n",
       "d    6.0\n",
       "e    5.0\n",
       "f    4.0\n",
       "g    3.0\n",
       "h    2.0\n",
       "i    1.0\n",
       "Name: MySeries, dtype: float64"
      ]
     },
     "execution_count": 12,
     "metadata": {},
     "output_type": "execute_result"
    }
   ],
   "source": [
    "# 값(Value) 기준 정렬\n",
    "series.sort_values()\n",
    "\n",
    "# 값(Value) 기준 내림차순 정렬\n",
    "series.sort_values(ascending=False)\n",
    "\n",
    "# 인덱스(Index) 기준 정렬\n",
    "series.sort_index()\n",
    "\n",
    "# 인덱스(Index) 기준 내림차순 정렬\n",
    "series.sort_index(ascending=False)\n",
    "\n",
    "# 순위(몇등인지) 구하기\n",
    "series.rank()\n",
    "\n",
    "# 순위 내림차순으로 구하기\n",
    "series.rank(ascending=False)"
   ]
  }
 ],
 "metadata": {
  "kernelspec": {
   "display_name": "Python 3",
   "language": "python",
   "name": "python3"
  },
  "language_info": {
   "codemirror_mode": {
    "name": "ipython",
    "version": 3
   },
   "file_extension": ".py",
   "mimetype": "text/x-python",
   "name": "python",
   "nbconvert_exporter": "python",
   "pygments_lexer": "ipython3",
   "version": "3.9.5"
  }
 },
 "nbformat": 4,
 "nbformat_minor": 2
}
