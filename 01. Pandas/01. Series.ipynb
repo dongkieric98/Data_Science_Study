{
 "cells": [
  {
   "cell_type": "markdown",
   "metadata": {},
   "source": [
    "# 01. Series"
   ]
  },
  {
   "cell_type": "markdown",
   "metadata": {},
   "source": [
    "### 01. Series 생성"
   ]
  },
  {
   "cell_type": "code",
   "execution_count": 3,
   "metadata": {},
   "outputs": [],
   "source": [
    "import pandas as pd\n",
    "import numpy as np\n",
    "data = [10, 20, 30, 40]\n",
    "\n",
    "# 리스트(List)로 시리즈 생성\n",
    "series1 = pd.Series(data)\n",
    "\n",
    "# 배열(Array)로 시리즈 생성\n",
    "np_data = np.array(data)\n",
    "series2 = pd.Series(np_data)\n",
    "\n",
    "# 딕셔너리(Dictionary)로 시리즈 생성\n",
    "data_dict = {\n",
    "        'a' : 10,\n",
    "        'b' : 20,\n",
    "        'c' : 30,\n",
    "        'd' : 40\n",
    "}\n",
    "series3 = pd.Series(data_dict)"
   ]
  },
  {
   "cell_type": "markdown",
   "metadata": {},
   "source": [
    "### 02. Series 데이터 타입, 인덱스 설정"
   ]
  },
  {
   "cell_type": "code",
   "execution_count": null,
   "metadata": {},
   "outputs": [],
   "source": [
    "data = [10, 20, 30, 40]\n"
   ]
  }
 ],
 "metadata": {
  "kernelspec": {
   "display_name": "Python 3",
   "language": "python",
   "name": "python3"
  },
  "language_info": {
   "codemirror_mode": {
    "name": "ipython",
    "version": 3
   },
   "file_extension": ".py",
   "mimetype": "text/x-python",
   "name": "python",
   "nbconvert_exporter": "python",
   "pygments_lexer": "ipython3",
   "version": "3.9.5"
  }
 },
 "nbformat": 4,
 "nbformat_minor": 2
}
