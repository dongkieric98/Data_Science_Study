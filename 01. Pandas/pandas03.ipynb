{
 "cells": [
  {
   "cell_type": "markdown",
   "metadata": {},
   "source": [
    "#### 1. 시리즈 생성"
   ]
  },
  {
   "cell_type": "code",
   "execution_count": 1,
   "metadata": {},
   "outputs": [],
   "source": [
    "import pandas as pd\n",
    "\n",
    "data1 = [10, 20, 30, 40]\n",
    "data2 = [5, 15, 25, 35]\n",
    "index = ['a', 'b', 'c', 'd']\n",
    "\n",
    "series1 = pd.Series(data1, index=index)\n",
    "series2 = pd.Series(data2, index=index)"
   ]
  },
  {
   "cell_type": "markdown",
   "metadata": {},
   "source": [
    "#### 2. 시리즈 덧셈 연산"
   ]
  },
  {
   "cell_type": "code",
   "execution_count": 3,
   "metadata": {},
   "outputs": [
    {
     "data": {
      "text/plain": [
       "a    15\n",
       "b    35\n",
       "c    55\n",
       "d    75\n",
       "dtype: int64"
      ]
     },
     "execution_count": 3,
     "metadata": {},
     "output_type": "execute_result"
    }
   ],
   "source": [
    "series_result = series1 + series2\n",
    "series_result"
   ]
  },
  {
   "cell_type": "markdown",
   "metadata": {},
   "source": [
    "#### 3. 시리즈 뺼셈, 곱셈, 나눗셈 연산\n",
    "###### subtraction_result는 series1와 series2의 뺄셈(-) 연산, \n",
    "###### multiplication_result는 series1와 series2의 곱셈(*) 연산, \n",
    "###### division_result는 series1와 series2의 나눗셈(/) 연산을 적용해 봅시다."
   ]
  },
  {
   "cell_type": "code",
   "execution_count": 4,
   "metadata": {},
   "outputs": [
    {
     "name": "stdout",
     "output_type": "stream",
     "text": [
      "a    5\n",
      "b    5\n",
      "c    5\n",
      "d    5\n",
      "dtype: int64\n",
      "a      50\n",
      "b     300\n",
      "c     750\n",
      "d    1400\n",
      "dtype: int64\n",
      "a    2.000000\n",
      "b    1.333333\n",
      "c    1.200000\n",
      "d    1.142857\n",
      "dtype: float64\n"
     ]
    }
   ],
   "source": [
    "subtraction_result = series1 - series2\n",
    "multiplication_result = series1 * series2\n",
    "division_result = series1 / series2\n",
    "\n",
    "print(subtraction_result)\n",
    "print(multiplication_result)\n",
    "print(division_result)"
   ]
  },
  {
   "cell_type": "markdown",
   "metadata": {},
   "source": [
    "#### 4. 시리즈와 상수 연산\n",
    "###### series1의 모든 원소에 1을 더해 줍시다.\n",
    "###### 상수 1을 +연산을 이용해 더해주면 됩니다"
   ]
  },
  {
   "cell_type": "code",
   "execution_count": 5,
   "metadata": {},
   "outputs": [
    {
     "data": {
      "text/plain": [
       "a    11\n",
       "b    21\n",
       "c    31\n",
       "d    41\n",
       "dtype: int64"
      ]
     },
     "execution_count": 5,
     "metadata": {},
     "output_type": "execute_result"
    }
   ],
   "source": [
    "addition_result = series1 + 1\n",
    "addition_result"
   ]
  },
  {
   "cell_type": "markdown",
   "metadata": {},
   "source": [
    "#### 5. 시리즈와 지수 연산\n",
    "###### series1의 모든 원소에 제곱 연산을 해줍시다.\n",
    "###### 상수 2을 **연산을 이용해 제곱 연산을 해주면 됩니다."
   ]
  },
  {
   "cell_type": "code",
   "execution_count": 7,
   "metadata": {},
   "outputs": [
    {
     "data": {
      "text/plain": [
       "a     100\n",
       "b     400\n",
       "c     900\n",
       "d    1600\n",
       "dtype: int64"
      ]
     },
     "execution_count": 7,
     "metadata": {},
     "output_type": "execute_result"
    }
   ],
   "source": [
    "squared_series = series1 ** 2\n",
    "squared_series"
   ]
  },
  {
   "cell_type": "markdown",
   "metadata": {},
   "source": [
    "#### 6. 시리즈와 로그 연산\n",
    "###### 시리즈의 모든 원소에 log 연산을 적용해 봅시다."
   ]
  },
  {
   "cell_type": "code",
   "execution_count": 8,
   "metadata": {},
   "outputs": [
    {
     "data": {
      "text/plain": [
       "a    2.302585\n",
       "b    2.995732\n",
       "c    3.401197\n",
       "d    3.688879\n",
       "dtype: float64"
      ]
     },
     "execution_count": 8,
     "metadata": {},
     "output_type": "execute_result"
    }
   ],
   "source": [
    "import numpy as np\n",
    "\n",
    "log_series = np.log(series1)\n",
    "log_series"
   ]
  },
  {
   "cell_type": "markdown",
   "metadata": {},
   "source": [
    "#### 7. 그외 다양한 연산"
   ]
  },
  {
   "cell_type": "code",
   "execution_count": 9,
   "metadata": {},
   "outputs": [
    {
     "name": "stdout",
     "output_type": "stream",
     "text": [
      "Sum: 15.0\n",
      "Mean: 3.0\n",
      "Max: 5.0\n",
      "Min: 1.0\n",
      "Standard Deviation: 1.5811388300841898\n",
      "Variance: 2.5\n",
      "Median: 3.0\n",
      "25th Percentile: 2.0\n",
      "Count (excluding missing values): 5\n"
     ]
    }
   ],
   "source": [
    "data = [1, 2, 3, 4, 5, None]\n",
    "series = pd.Series(data, name='MySeries')\n",
    "\n",
    "sum_result = series.sum()\n",
    "mean_result = series.mean()\n",
    "max_result = series.max()\n",
    "min_result = series.min()\n",
    "std_result = series.std()\n",
    "var_result = series.var()\n",
    "median_result = series.median()\n",
    "quantile_result = series.quantile(0.25)  \n",
    "count_result = series.count()\n",
    "\n",
    "print(f\"Sum: {sum_result}\")\n",
    "print(f\"Mean: {mean_result}\")\n",
    "print(f\"Max: {max_result}\")\n",
    "print(f\"Min: {min_result}\")\n",
    "print(f\"Standard Deviation: {std_result}\")\n",
    "print(f\"Variance: {var_result}\")\n",
    "print(f\"Median: {median_result}\")\n",
    "print(f\"25th Percentile: {quantile_result}\")\n",
    "print(f\"Count (excluding missing values): {count_result}\")"
   ]
  },
  {
   "attachments": {
    "image.png": {
     "image/png": "[encoded data removed]"
    }
   },
   "cell_type": "markdown",
   "metadata": {},
   "source": [
    "#### 8. 시리즈 연산 연습문제1\n",
    "###### 다음 식을 보고 시리즈를 연산해 봅시다\n",
    "![image.png](attachment:image.png)"
   ]
  },
  {
   "cell_type": "code",
   "execution_count": 11,
   "metadata": {},
   "outputs": [
    {
     "data": {
      "text/plain": [
       "0   NaN\n",
       "1   NaN\n",
       "2   NaN\n",
       "3   NaN\n",
       "4   NaN\n",
       "5   NaN\n",
       "a   NaN\n",
       "b   NaN\n",
       "c   NaN\n",
       "d   NaN\n",
       "dtype: float64"
      ]
     },
     "execution_count": 11,
     "metadata": {},
     "output_type": "execute_result"
    }
   ],
   "source": [
    "result = (series1**0.5 + series2**2 - 1) / (np.log(series1) * series2)\n",
    "result"
   ]
  },
  {
   "attachments": {
    "image.png": {
     "image/png": "[encoded data removed]"
    }
   },
   "cell_type": "markdown",
   "metadata": {},
   "source": [
    "#### 9. 시리즈 연산 연습문제2\n",
    "###### 다음식을 보고 시리즈를 연산해 봅시다\n",
    "![image.png](attachment:image.png)"
   ]
  },
  {
   "cell_type": "code",
   "execution_count": 13,
   "metadata": {},
   "outputs": [
    {
     "data": {
      "text/plain": [
       "a     64.135539\n",
       "b    261.783869\n",
       "c    551.328974\n",
       "d    923.344504\n",
       "dtype: float64"
      ]
     },
     "execution_count": 13,
     "metadata": {},
     "output_type": "execute_result"
    }
   ],
   "source": [
    "result = ((series1**2 + 3)/series2**0.5) * np.log(series2) - series1\n",
    "result"
   ]
  }
 ],
 "metadata": {
  "kernelspec": {
   "display_name": "Python 3",
   "language": "python",
   "name": "python3"
  },
  "language_info": {
   "codemirror_mode": {
    "name": "ipython",
    "version": 3
   },
   "file_extension": ".py",
   "mimetype": "text/x-python",
   "name": "python",
   "nbconvert_exporter": "python",
   "pygments_lexer": "ipython3",
   "version": "3.9.5"
  }
 },
 "nbformat": 4,
 "nbformat_minor": 2
}
