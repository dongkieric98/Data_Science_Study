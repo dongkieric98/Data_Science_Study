{
 "cells": [
  {
   "cell_type": "markdown",
   "metadata": {},
   "source": [
    "#### Class 개념 정리\n",
    "\n",
    "###### (1) 클래스: 제품의 설계도 (신발 설계도)\n",
    "###### (2) 객체: 설계도로 만든 제품 (빨간 신발, 파란 신발 등)\n",
    "###### (3) 속성: 클래스안의 변수\n",
    "###### (4) 메서드: 클래스 안의 함수\n",
    "###### (5) 생성자: 객체를 만들 때 실행되는 함수"
   ]
  },
  {
   "cell_type": "code",
   "execution_count": 2,
   "metadata": {},
   "outputs": [],
   "source": [
    "class 클래스이름:\n",
    "    def __init__메서드이름(self):\n",
    "        명령블록"
   ]
  },
  {
   "cell_type": "markdown",
   "metadata": {},
   "source": [
    "--------------------------"
   ]
  },
  {
   "cell_type": "markdown",
   "metadata": {},
   "source": [
    "#### 1. MyRNNcell 클래스 구현하기\n",
    "###### [1] nn.Module을 상속하여 SimpleRNN 클래스를 정의\n",
    "###### [2] SimpleRNN 클래스 생성시 입력 크기(input_size), 은닉상태크기(hidden_size), 출력벡터크기(output_size)를 매개 변수로 설정"
   ]
  },
  {
   "cell_type": "code",
   "execution_count": 1,
   "metadata": {},
   "outputs": [],
   "source": [
    "import torch\n",
    "import torch.nn as nn\n",
    "\n",
    "# nn.Module은 신경망 모델의 기본 구조를 정의해주는 부모 클래스\n",
    "# nn.Module(부모클래스)을 상속박아 MyRNNcell(자식클래스)를 정의\n",
    "class MyRNNcell(nn.Module):\n",
    "    \n",
    "    # 클래스의 초기화 메서드(객체가 만들어질 때, 자동으로 호출되는 메서드)\n",
    "    # input_size(입력 벡터의 크기), hidden_size(은닉 상태 벡터의 크기)\n",
    "    def __init__(self, input_size, hidden_size):\n",
    "\n",
    "        # 부모 클래스(nn.Module)에서 설정된 기능을 호출\n",
    "        super(MyRNNcell, self).__init__()\n",
    "\n",
    "        # hidden_size(은닉 상태) 크기를 설정\n",
    "        self.hidden_size = hidden_size\n",
    "\n",
    "        # 입력 가중치 초기화\n",
    "        # nn.Parameter는 신경망 모델의 학습 가능한 매개변수를 정의할 때 사용하는 텐서\n",
    "        # torch.randn는 주어진 크기로 텐서를 생성하며, 평균0, 표준편차1인 정규분포를 따름\n",
    "        self.Wx = nn.Parameter(torch.randn(hidden_size, input_size))\n",
    "\n",
    "        # 은닉 상태 가중치 초기화\n",
    "        # 이전 은닉 상태와 곱할 가중치 설정 (hidden_size x hidden_size 크기를 가짐)\n",
    "        self.Wh = nn.Parameter(torch.randn(hidden_size, hidden_size))\n",
    "\n",
    "        # 편향 벡터 초기화\n",
    "        self.b = nn.Parameter(torch.randn(hidden_size))\n"
   ]
  },
  {
   "cell_type": "code",
   "execution_count": null,
   "metadata": {},
   "outputs": [],
   "source": []
  }
 ],
 "metadata": {
  "kernelspec": {
   "display_name": "Python 3",
   "language": "python",
   "name": "python3"
  },
  "language_info": {
   "codemirror_mode": {
    "name": "ipython",
    "version": 3
   },
   "file_extension": ".py",
   "mimetype": "text/x-python",
   "name": "python",
   "nbconvert_exporter": "python",
   "pygments_lexer": "ipython3",
   "version": "3.9.5"
  }
 },
 "nbformat": 4,
 "nbformat_minor": 2
}
