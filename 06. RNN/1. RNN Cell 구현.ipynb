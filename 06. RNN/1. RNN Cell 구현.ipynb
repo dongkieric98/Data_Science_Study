{
 "cells": [
  {
   "cell_type": "code",
   "execution_count": 3,
   "metadata": {},
   "outputs": [
    {
     "name": "stdout",
     "output_type": "stream",
     "text": [
      "Collecting torch\n",
      "  Downloading torch-2.3.0-cp39-cp39-win_amd64.whl (159.7 MB)\n",
      "Requirement already satisfied: typing-extensions>=4.8.0 in c:\\users\\nt930qcg\\appdata\\roaming\\python\\python39\\site-packages (from torch) (4.11.0)\n",
      "Collecting sympy\n",
      "  Downloading sympy-1.12-py3-none-any.whl (5.7 MB)\n",
      "Collecting mkl<=2021.4.0,>=2021.1.1\n",
      "  Downloading mkl-2021.4.0-py2.py3-none-win_amd64.whl (228.5 MB)\n",
      "Collecting filelock\n",
      "  Downloading filelock-3.14.0-py3-none-any.whl (12 kB)\n",
      "Collecting networkx\n",
      "  Downloading networkx-3.2.1-py3-none-any.whl (1.6 MB)\n",
      "Collecting jinja2\n",
      "  Downloading jinja2-3.1.4-py3-none-any.whl (133 kB)\n",
      "Collecting fsspec\n",
      "  Downloading fsspec-2024.5.0-py3-none-any.whl (316 kB)\n",
      "Collecting tbb==2021.*\n",
      "  Downloading tbb-2021.12.0-py3-none-win_amd64.whl (286 kB)\n",
      "Collecting intel-openmp==2021.*\n",
      "  Downloading intel_openmp-2021.4.0-py2.py3-none-win_amd64.whl (3.5 MB)\n",
      "Requirement already satisfied: MarkupSafe>=2.0 in c:\\users\\nt930qcg\\appdata\\local\\programs\\python\\python39\\lib\\site-packages (from jinja2->torch) (2.1.5)\n",
      "Collecting mpmath>=0.19\n",
      "  Downloading mpmath-1.3.0-py3-none-any.whl (536 kB)\n",
      "Installing collected packages: tbb, mpmath, intel-openmp, sympy, networkx, mkl, jinja2, fsspec, filelock, torch\n",
      "Successfully installed filelock-3.14.0 fsspec-2024.5.0 intel-openmp-2021.4.0 jinja2-3.1.4 mkl-2021.4.0 mpmath-1.3.0 networkx-3.2.1 sympy-1.12 tbb-2021.12.0 torch-2.3.0\n"
     ]
    },
    {
     "name": "stderr",
     "output_type": "stream",
     "text": [
      "WARNING: You are using pip version 21.1.1; however, version 24.0 is available.\n",
      "You should consider upgrading via the 'c:\\users\\nt930qcg\\appdata\\local\\programs\\python\\python39\\python.exe -m pip install --upgrade pip' command.\n"
     ]
    }
   ],
   "source": [
    "import torch\n",
    "import torch.nn as nn"
   ]
  },
  {
   "cell_type": "markdown",
   "metadata": {},
   "source": [
    "#### 01. 입력 벡터 Xt 생성"
   ]
  },
  {
   "cell_type": "code",
   "execution_count": 16,
   "metadata": {},
   "outputs": [
    {
     "data": {
      "text/plain": [
       "'x_t 출력 결과 : tensor([ 1.1093,  0.7071, -1.2237,  1.5263])'"
      ]
     },
     "metadata": {},
     "output_type": "display_data"
    },
    {
     "data": {
      "text/plain": [
       "'xt 차원 : 1'"
      ]
     },
     "metadata": {},
     "output_type": "display_data"
    },
    {
     "data": {
      "text/plain": [
       "'xt 형태 : torch.Size([4])'"
      ]
     },
     "metadata": {},
     "output_type": "display_data"
    }
   ],
   "source": [
    "# Xt 벡터의 크기 설정\n",
    "d = 4\n",
    "\n",
    "# 무작위 값으로 1차원 벡터 초기화\n",
    "xt = torch.randn(d)\n",
    "\n",
    "# Xt 벡터 정보 확인\n",
    "display(f\"x_t 출력 결과 : {xt}\")\n",
    "\n",
    "# 벡터이기 때문에 1차원\n",
    "display(f\"xt 차원 : {xt.dim()}\")\n",
    "\n",
    "# 해당 벡터가 몇개의 특성을 갖고 있는가\n",
    "display(f\"xt 형태 : {xt.shape}\")"
   ]
  },
  {
   "cell_type": "markdown",
   "metadata": {},
   "source": [
    "#### 02. 초기 은닉 상태 ht-1 설정"
   ]
  },
  {
   "cell_type": "code",
   "execution_count": 17,
   "metadata": {},
   "outputs": [
    {
     "name": "stdout",
     "output_type": "stream",
     "text": [
      "2\n",
      "torch.Size([1, 6])\n"
     ]
    }
   ],
   "source": [
    "# 은닉 상태 벡터의 크기 설정\n",
    "Dh = 6\n",
    "\n",
    "# 이전 은닉 상태 벡터를 0값으로 초기화\n",
    "ht1 = torch.zeros(1, Dh)\n",
    "\n",
    "# ht1의 차원 확인\n",
    "print(ht1.dim())\n",
    "\n",
    "# ht1의 형태 확인\n",
    "print(ht1.shape)"
   ]
  },
  {
   "cell_type": "markdown",
   "metadata": {},
   "source": [
    "#### 03. 입력에 대한 가중치 Wx 설정"
   ]
  },
  {
   "cell_type": "code",
   "execution_count": 18,
   "metadata": {},
   "outputs": [
    {
     "data": {
      "text/plain": [
       "tensor([[-0.0670, -0.1276,  2.0441, -1.1606],\n",
       "        [ 1.3907,  0.5164, -1.2823,  1.9930],\n",
       "        [-0.6187, -0.6084,  1.6602,  0.5403],\n",
       "        [-0.8841,  1.7086, -0.7395, -0.4605],\n",
       "        [ 0.0140,  3.1740, -0.2384,  0.6277],\n",
       "        [ 0.9870,  0.5122, -0.1796,  0.0432]])"
      ]
     },
     "metadata": {},
     "output_type": "display_data"
    },
    {
     "data": {
      "text/plain": [
       "2"
      ]
     },
     "metadata": {},
     "output_type": "display_data"
    },
    {
     "data": {
      "text/plain": [
       "torch.Size([6, 4])"
      ]
     },
     "metadata": {},
     "output_type": "display_data"
    }
   ],
   "source": [
    "# 입력 가중치 행렬 설정\n",
    "Wx = torch.randn(Dh, d)\n",
    "\n",
    "# 입력 가중치 행렬 출력\n",
    "display(Wx)\n",
    "\n",
    "# 입력 가중치 행렬 차원\n",
    "display(Wx.dim())\n",
    "\n",
    "# 입력 가중치 행렬 형태\n",
    "display(Wx.shape)"
   ]
  },
  {
   "cell_type": "markdown",
   "metadata": {},
   "source": [
    "#### 04. 은닉 상태에 대한 가중치 Wh 설정"
   ]
  },
  {
   "cell_type": "code",
   "execution_count": 19,
   "metadata": {},
   "outputs": [
    {
     "data": {
      "text/plain": [
       "tensor([[-0.8040, -0.5049,  0.9456,  0.6515,  0.3184,  0.9090],\n",
       "        [-0.8128,  1.2438, -0.9688, -0.8695,  0.7063, -0.8125],\n",
       "        [ 2.7683,  1.5637, -0.5418,  2.5716, -0.5109,  0.6296],\n",
       "        [ 0.9147,  0.7532,  0.1847,  1.4484,  0.0666,  1.6903],\n",
       "        [ 2.1347, -0.6140,  2.1180,  0.5268,  0.2085,  0.3815],\n",
       "        [ 0.4650,  0.5643,  1.1932, -0.8375, -0.0298,  1.1384]])"
      ]
     },
     "metadata": {},
     "output_type": "display_data"
    },
    {
     "data": {
      "text/plain": [
       "2"
      ]
     },
     "metadata": {},
     "output_type": "display_data"
    },
    {
     "data": {
      "text/plain": [
       "torch.Size([6, 6])"
      ]
     },
     "metadata": {},
     "output_type": "display_data"
    }
   ],
   "source": [
    "# 은닉 상태 가중치 행렬 설정\n",
    "Wh = torch.randn(Dh, Dh)\n",
    "\n",
    "# 은닉 상태 가중치 행렬 확인\n",
    "display(Wh)\n",
    "\n",
    "# 은닉 상태 가중치 행렬 차원\n",
    "display(Wh.dim())\n",
    "\n",
    "# 은닉 상태 가중치 행렬 형태\n",
    "display(Wh.shape)"
   ]
  },
  {
   "cell_type": "markdown",
   "metadata": {},
   "source": [
    "#### 05. 편향 b 설정"
   ]
  },
  {
   "cell_type": "code",
   "execution_count": 20,
   "metadata": {},
   "outputs": [
    {
     "data": {
      "text/plain": [
       "tensor([-0.7060,  1.9480, -1.8572,  0.0187, -1.9432, -0.3462])"
      ]
     },
     "metadata": {},
     "output_type": "display_data"
    },
    {
     "data": {
      "text/plain": [
       "1"
      ]
     },
     "metadata": {},
     "output_type": "display_data"
    },
    {
     "data": {
      "text/plain": [
       "torch.Size([6])"
      ]
     },
     "metadata": {},
     "output_type": "display_data"
    }
   ],
   "source": [
    "# 편향 b 설정\n",
    "b = torch.randn(Dh)\n",
    "\n",
    "# 편향 벡터 확인\n",
    "display(b)\n",
    "\n",
    "# 편향 차원 확인\n",
    "display(b.dim())\n",
    "\n",
    "# 편향 형태 확인\n",
    "display(b.shape)"
   ]
  },
  {
   "cell_type": "markdown",
   "metadata": {},
   "source": [
    "#### 06. 현시점 은닉상태 계산"
   ]
  },
  {
   "cell_type": "code",
   "execution_count": 21,
   "metadata": {},
   "outputs": [],
   "source": [
    "# 현재 은닉 상태 ht 구하는 공식 작성\n",
    "h_t = torch.tanh(torch.matmul(xt.unsqueeze(0), Wx.t()) \n",
    "                 + torch.matmul(ht1, Wh.t()) \n",
    "                 + b.unsqueeze(0))"
   ]
  },
  {
   "cell_type": "markdown",
   "metadata": {},
   "source": [
    "#### 07. 출력 가중치 Wy 및 출력 Yt 계산"
   ]
  },
  {
   "cell_type": "code",
   "execution_count": 22,
   "metadata": {},
   "outputs": [],
   "source": [
    "# 출력 벡터의 차원 정의\n",
    "Dy = 2 \n",
    "\n",
    "# 출력 가중치\n",
    "Wy = torch.randn(Dh, Dy)\n",
    "\n",
    "# 최종 출력값\n",
    "y_t = torch.sigmoid(torch.matmul(h_t, Wy))"
   ]
  }
 ],
 "metadata": {
  "kernelspec": {
   "display_name": "Python 3",
   "language": "python",
   "name": "python3"
  },
  "language_info": {
   "codemirror_mode": {
    "name": "ipython",
    "version": 3
   },
   "file_extension": ".py",
   "mimetype": "text/x-python",
   "name": "python",
   "nbconvert_exporter": "python",
   "pygments_lexer": "ipython3",
   "version": "3.9.5"
  }
 },
 "nbformat": 4,
 "nbformat_minor": 2
}
