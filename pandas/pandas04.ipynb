{
 "cells": [
  {
   "cell_type": "markdown",
   "metadata": {},
   "source": [
    "#### 1. 시리즈 생성하기"
   ]
  },
  {
   "cell_type": "code",
   "execution_count": 1,
   "metadata": {},
   "outputs": [
    {
     "data": {
      "text/plain": [
       "a    20\n",
       "b    10\n",
       "c    40\n",
       "d    50\n",
       "e    60\n",
       "f    30\n",
       "g    70\n",
       "h    80\n",
       "Name: my_series, dtype: int64"
      ]
     },
     "execution_count": 1,
     "metadata": {},
     "output_type": "execute_result"
    }
   ],
   "source": [
    "import pandas as pd\n",
    "\n",
    "data = [20, 10, 40, 50, 60, 30, 70, 80]\n",
    "index = ['a', 'b', 'c', 'd', 'e', 'f', 'g', 'h']\n",
    "\n",
    "series = pd.Series(data, index=index, name='my_series')\n",
    "series"
   ]
  },
  {
   "cell_type": "markdown",
   "metadata": {},
   "source": [
    "#### 2. 대괄호를 이용한 인덱싱\n",
    "###### value_at_b에는 인덱스가 'b'인 데이터를 추출하고,\n",
    "###### value_at_three에는 인덱스가 3번째(0부터 숫자를 세어서) 값을 추출해 봅시다."
   ]
  },
  {
   "cell_type": "code",
   "execution_count": 11,
   "metadata": {},
   "outputs": [
    {
     "name": "stdout",
     "output_type": "stream",
     "text": [
      "a    20\n",
      "b    10\n",
      "c    40\n",
      "d    50\n",
      "e    60\n",
      "f    30\n",
      "g    70\n",
      "h    80\n",
      "Name: my_series, dtype: int64\n",
      "index b : 10\n",
      "3번째 값(0부터시작):  50\n"
     ]
    },
    {
     "name": "stderr",
     "output_type": "stream",
     "text": [
      "C:\\Users\\NT930QCG\\AppData\\Local\\Temp\\ipykernel_26520\\960590117.py:2: FutureWarning: Series.__getitem__ treating keys as positions is deprecated. In a future version, integer keys will always be treated as labels (consistent with DataFrame behavior). To access a value by position, use `ser.iloc[pos]`\n",
      "  value_at_three = series[3]\n"
     ]
    }
   ],
   "source": [
    "value_at_b = series['b']\n",
    "value_at_three = series[3]\n",
    "\n",
    "print(series)\n",
    "print('index b :', value_at_b)\n",
    "print('3번째 값(0부터시작): ', value_at_three)"
   ]
  },
  {
   "cell_type": "markdown",
   "metadata": {},
   "source": [
    "#### 3. 라벨 기반 인덱싱\n",
    "###### loc를 이용해 라벨 기반 인덱싱을 연습해 봅시다.\n",
    "###### 인덱스가'b'인 데이터를 추출하세요."
   ]
  },
  {
   "cell_type": "code",
   "execution_count": 22,
   "metadata": {},
   "outputs": [
    {
     "data": {
      "text/plain": [
       "10"
      ]
     },
     "execution_count": 22,
     "metadata": {},
     "output_type": "execute_result"
    }
   ],
   "source": [
    "value_at_b = series.loc['b']\n",
    "value_at_b"
   ]
  },
  {
   "cell_type": "markdown",
   "metadata": {},
   "source": [
    "#### 4. 정수 기반 인덱싱\n",
    "###### iloc를 이용해서 정수 기반 인덱싱을 연습해 봅시다.\n",
    "###### 1번째(0부터 시작해서) 데이터를 추출하세요."
   ]
  },
  {
   "cell_type": "code",
   "execution_count": 24,
   "metadata": {},
   "outputs": [
    {
     "data": {
      "text/plain": [
       "10"
      ]
     },
     "execution_count": 24,
     "metadata": {},
     "output_type": "execute_result"
    }
   ],
   "source": [
    "value_at_one = series.iloc[1]\n",
    "value_at_one"
   ]
  },
  {
   "cell_type": "markdown",
   "metadata": {},
   "source": [
    "#### 5. 대괄호를 이용한 인덱싱\n",
    "###### value_b_to_d에는 'b'부터 'd'까지\n",
    "###### value_2_to_before_5에는 2부터 5 이전까지 데이터를 추출해 봅시다."
   ]
  },
  {
   "cell_type": "code",
   "execution_count": 27,
   "metadata": {},
   "outputs": [
    {
     "name": "stdout",
     "output_type": "stream",
     "text": [
      "b    10\n",
      "c    40\n",
      "d    50\n",
      "Name: my_series, dtype: int64\n",
      "c    40\n",
      "d    50\n",
      "e    60\n",
      "Name: my_series, dtype: int64\n"
     ]
    }
   ],
   "source": [
    "value_b_to_d = series['b' : 'd']\n",
    "print(value_b_to_d)\n",
    "\n",
    "value_2_to_before_5 = series[2 : 5]\n",
    "print(value_2_to_before_5)"
   ]
  },
  {
   "cell_type": "markdown",
   "metadata": {},
   "source": [
    "#### 6. 라벨 기반 슬라이싱"
   ]
  },
  {
   "cell_type": "code",
   "execution_count": null,
   "metadata": {},
   "outputs": [],
   "source": [
    "sliced_series = series.loc['b':'d']\n",
    "sliced_series"
   ]
  },
  {
   "cell_type": "markdown",
   "metadata": {},
   "source": [
    "#### 7. 정수 기반 슬라이싱\n",
    "###### iloc를 이용해 라벨 기반으로 슬라이싱을 연습해 봅시다\n",
    "###### '1'에서 '4' 이전까지 데이터를 추출하세요."
   ]
  },
  {
   "cell_type": "code",
   "execution_count": 28,
   "metadata": {},
   "outputs": [
    {
     "data": {
      "text/plain": [
       "b    10\n",
       "c    40\n",
       "d    50\n",
       "Name: my_series, dtype: int64"
      ]
     },
     "execution_count": 28,
     "metadata": {},
     "output_type": "execute_result"
    }
   ],
   "source": [
    "sliced_series = series.iloc[1:4]\n",
    "sliced_series"
   ]
  },
  {
   "cell_type": "markdown",
   "metadata": {},
   "source": [
    "#### 8. 조건에 따른 필터링\n",
    "###### 시리즈의 데이터에서 값이 30이상인 값을 추출해 보세요."
   ]
  },
  {
   "cell_type": "code",
   "execution_count": 30,
   "metadata": {},
   "outputs": [
    {
     "data": {
      "text/plain": [
       "c    40\n",
       "d    50\n",
       "e    60\n",
       "f    30\n",
       "g    70\n",
       "h    80\n",
       "Name: my_series, dtype: int64"
      ]
     },
     "execution_count": 30,
     "metadata": {},
     "output_type": "execute_result"
    }
   ],
   "source": [
    "# 조건 설정 (예: 30 이상인 값만 선택)\n",
    "condition = series >= 30\n",
    "\n",
    "# 조건에 맞는 요소 필터링\n",
    "filtered_series = series[condition]\n",
    "filtered_series"
   ]
  },
  {
   "attachments": {
    "image.png": {
     "image/png": "[encoded data removed]"
    }
   },
   "cell_type": "markdown",
   "metadata": {},
   "source": [
    "#### 9. 슬라이싱 문제풀이\n",
    "###### 아래와 같은 시리즈 데이터가 주어졌을 때, 슬라이싱을 사용하여 인덱스(라벨 기준)\n",
    "###### 1부터 3까지의 범위에 해당하는 요소를 선택하고, 아래와 같이 그 결과를 출력하세요.\n",
    "\n",
    "![image.png](attachment:image.png)"
   ]
  },
  {
   "cell_type": "code",
   "execution_count": 37,
   "metadata": {},
   "outputs": [
    {
     "data": {
      "text/plain": [
       "[20, 30, 40]"
      ]
     },
     "execution_count": 37,
     "metadata": {},
     "output_type": "execute_result"
    }
   ],
   "source": [
    "data = [10, 20, 30, 40, 50]\n",
    "series = pd.Series(data, name='MySeries')\n",
    "\n",
    "\n",
    "sliced_series = data[1:4]\n",
    "sliced_series"
   ]
  },
  {
   "attachments": {
    "image.png": {
     "image/png": "[encoded data removed]"
    }
   },
   "cell_type": "markdown",
   "metadata": {},
   "source": [
    "#### 10. 필터링 문제풀이\n",
    "###### 데이터 값이 30보다 크거나 같은 값들을 추출해 봅시다. 그리고 아래와 같이 출력해 봅시다.\n",
    "![image.png](attachment:image.png)"
   ]
  },
  {
   "cell_type": "code",
   "execution_count": 43,
   "metadata": {},
   "outputs": [
    {
     "data": {
      "text/plain": [
       "2    30\n",
       "3    40\n",
       "4    50\n",
       "Name: MySeries, dtype: int64"
      ]
     },
     "execution_count": 43,
     "metadata": {},
     "output_type": "execute_result"
    }
   ],
   "source": [
    "data = [10, 20, 30, 40, 50]\n",
    "series = pd.Series(data, name='MySeries')\n",
    "\n",
    "# 조건에 맞는 요소 선택\n",
    "filtered_series = series[series >= 30]\n",
    "filtered_series"
   ]
  },
  {
   "cell_type": "code",
   "execution_count": 41,
   "metadata": {},
   "outputs": [
    {
     "data": {
      "text/plain": [
       "0    False\n",
       "1    False\n",
       "2     True\n",
       "3     True\n",
       "4     True\n",
       "Name: MySeries, dtype: bool"
      ]
     },
     "execution_count": 41,
     "metadata": {},
     "output_type": "execute_result"
    }
   ],
   "source": [
    "series >= 30"
   ]
  }
 ],
 "metadata": {
  "kernelspec": {
   "display_name": "Python 3",
   "language": "python",
   "name": "python3"
  },
  "language_info": {
   "codemirror_mode": {
    "name": "ipython",
    "version": 3
   },
   "file_extension": ".py",
   "mimetype": "text/x-python",
   "name": "python",
   "nbconvert_exporter": "python",
   "pygments_lexer": "ipython3",
   "version": "3.9.5"
  }
 },
 "nbformat": 4,
 "nbformat_minor": 2
}
