{
 "cells": [
  {
   "cell_type": "markdown",
   "metadata": {},
   "source": [
    "#### 1. 시리즈 생성하기"
   ]
  },
  {
   "cell_type": "code",
   "execution_count": 1,
   "metadata": {},
   "outputs": [
    {
     "data": {
      "text/plain": [
       "a    20\n",
       "b    10\n",
       "c    40\n",
       "d    50\n",
       "e    60\n",
       "f    30\n",
       "g    70\n",
       "h    80\n",
       "Name: my_series, dtype: int64"
      ]
     },
     "execution_count": 1,
     "metadata": {},
     "output_type": "execute_result"
    }
   ],
   "source": [
    "import pandas as pd\n",
    "\n",
    "data = [20, 10, 40, 50, 60, 30, 70, 80]\n",
    "index = ['a', 'b', 'c', 'd', 'e', 'f', 'g', 'h']\n",
    "\n",
    "series = pd.Series(data, index=index, name='my_series')\n",
    "series"
   ]
  },
  {
   "cell_type": "markdown",
   "metadata": {},
   "source": [
    "#### 2. 값을 기준으로 정렬하기"
   ]
  },
  {
   "cell_type": "code",
   "execution_count": 2,
   "metadata": {},
   "outputs": [
    {
     "data": {
      "text/plain": [
       "b    10\n",
       "a    20\n",
       "f    30\n",
       "c    40\n",
       "d    50\n",
       "e    60\n",
       "g    70\n",
       "h    80\n",
       "Name: my_series, dtype: int64"
      ]
     },
     "execution_count": 2,
     "metadata": {},
     "output_type": "execute_result"
    }
   ],
   "source": [
    "series_sorted = series.sort_values()\n",
    "series_sorted"
   ]
  },
  {
   "cell_type": "markdown",
   "metadata": {},
   "source": [
    "#### 3. 내림차순으로 정렬하기"
   ]
  },
  {
   "cell_type": "code",
   "execution_count": 3,
   "metadata": {},
   "outputs": [
    {
     "data": {
      "text/plain": [
       "h    80\n",
       "g    70\n",
       "e    60\n",
       "d    50\n",
       "c    40\n",
       "f    30\n",
       "a    20\n",
       "b    10\n",
       "Name: my_series, dtype: int64"
      ]
     },
     "execution_count": 3,
     "metadata": {},
     "output_type": "execute_result"
    }
   ],
   "source": [
    "series_sorted = series.sort_values(ascending=False)\n",
    "series_sorted"
   ]
  },
  {
   "cell_type": "markdown",
   "metadata": {},
   "source": [
    "#### 4. 인덱스를 기준으로 정렬하기"
   ]
  },
  {
   "cell_type": "code",
   "execution_count": 4,
   "metadata": {},
   "outputs": [
    {
     "data": {
      "text/plain": [
       "a    20\n",
       "b    10\n",
       "c    40\n",
       "d    50\n",
       "e    60\n",
       "f    30\n",
       "g    70\n",
       "h    80\n",
       "Name: my_series, dtype: int64"
      ]
     },
     "execution_count": 4,
     "metadata": {},
     "output_type": "execute_result"
    }
   ],
   "source": [
    "series_sorted = series.sort_index()\n",
    "series_sorted"
   ]
  },
  {
   "cell_type": "markdown",
   "metadata": {},
   "source": [
    "#### 5. 인덱스를 기준으로 내림차순 정렬"
   ]
  },
  {
   "cell_type": "code",
   "execution_count": 5,
   "metadata": {},
   "outputs": [
    {
     "data": {
      "text/plain": [
       "h    80\n",
       "g    70\n",
       "f    30\n",
       "e    60\n",
       "d    50\n",
       "c    40\n",
       "b    10\n",
       "a    20\n",
       "Name: my_series, dtype: int64"
      ]
     },
     "execution_count": 5,
     "metadata": {},
     "output_type": "execute_result"
    }
   ],
   "source": [
    "series_sorted = series.sort_index(ascending=False)\n",
    "series_sorted"
   ]
  },
  {
   "cell_type": "markdown",
   "metadata": {},
   "source": [
    "#### 6. 순위 구하기"
   ]
  },
  {
   "cell_type": "code",
   "execution_count": 6,
   "metadata": {},
   "outputs": [
    {
     "data": {
      "text/plain": [
       "a    2.0\n",
       "b    1.0\n",
       "c    4.0\n",
       "d    5.0\n",
       "e    6.0\n",
       "f    3.0\n",
       "g    7.0\n",
       "h    8.0\n",
       "Name: my_series, dtype: float64"
      ]
     },
     "execution_count": 6,
     "metadata": {},
     "output_type": "execute_result"
    }
   ],
   "source": [
    "series_rank = series.rank()\n",
    "series_rank"
   ]
  },
  {
   "cell_type": "markdown",
   "metadata": {},
   "source": [
    "#### 7. 내림차순으로 순위 구하기"
   ]
  },
  {
   "cell_type": "code",
   "execution_count": 7,
   "metadata": {},
   "outputs": [
    {
     "data": {
      "text/plain": [
       "a    7.0\n",
       "b    8.0\n",
       "c    5.0\n",
       "d    4.0\n",
       "e    3.0\n",
       "f    6.0\n",
       "g    2.0\n",
       "h    1.0\n",
       "Name: my_series, dtype: float64"
      ]
     },
     "execution_count": 7,
     "metadata": {},
     "output_type": "execute_result"
    }
   ],
   "source": [
    "series_rank = series.rank(ascending=False)\n",
    "series_rank"
   ]
  },
  {
   "cell_type": "markdown",
   "metadata": {},
   "source": [
    "#### 8. 정렬 문제풀이\n",
    "###### 다음은 학생의 성적을 나타낸 시리즈입니다. 이를 값 기준으로 오름차순으로 정렬해 sorted_series에 넣어보세요."
   ]
  },
  {
   "cell_type": "code",
   "execution_count": 9,
   "metadata": {},
   "outputs": [
    {
     "data": {
      "text/plain": [
       "Science    75\n",
       "Math       85\n",
       "History    88\n",
       "English    90\n",
       "dtype: int64"
      ]
     },
     "execution_count": 9,
     "metadata": {},
     "output_type": "execute_result"
    }
   ],
   "source": [
    "data = {'Math': 85, 'English': 90, 'Science': 75, 'History': 88}\n",
    "series = pd.Series(data)\n",
    "\n",
    "# 여기에 정렬 코드를 작성하세요\n",
    "sorted_series = series.sort_values(ascending=True)\n",
    "sorted_series"
   ]
  },
  {
   "cell_type": "markdown",
   "metadata": {},
   "source": [
    "#### 9. 순위 구하기 문제풀이\n",
    "###### 학생의 시험 점수를 기준으로 순위를 내림차순으로 구해 ranked_series에 넣어 봅시다."
   ]
  },
  {
   "cell_type": "code",
   "execution_count": 10,
   "metadata": {},
   "outputs": [
    {
     "data": {
      "text/plain": [
       "Math       3.0\n",
       "English    1.0\n",
       "Science    2.0\n",
       "History    4.0\n",
       "dtype: float64"
      ]
     },
     "execution_count": 10,
     "metadata": {},
     "output_type": "execute_result"
    }
   ],
   "source": [
    "data = {'Math': 78, 'English': 92, 'Science': 85, 'History': 68}\n",
    "series = pd.Series(data)\n",
    "\n",
    "ranked_series = series.rank(ascending=False)\n",
    "ranked_series"
   ]
  }
 ],
 "metadata": {
  "kernelspec": {
   "display_name": "Python 3",
   "language": "python",
   "name": "python3"
  },
  "language_info": {
   "codemirror_mode": {
    "name": "ipython",
    "version": 3
   },
   "file_extension": ".py",
   "mimetype": "text/x-python",
   "name": "python",
   "nbconvert_exporter": "python",
   "pygments_lexer": "ipython3",
   "version": "3.9.5"
  }
 },
 "nbformat": 4,
 "nbformat_minor": 2
}
