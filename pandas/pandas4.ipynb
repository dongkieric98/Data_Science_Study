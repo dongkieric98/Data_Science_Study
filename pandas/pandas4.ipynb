{
 "cells": [
  {
   "cell_type": "markdown",
   "metadata": {},
   "source": [
    "#### 1. 시리즈 생성하기"
   ]
  },
  {
   "cell_type": "code",
   "execution_count": 1,
   "metadata": {},
   "outputs": [
    {
     "data": {
      "text/plain": [
       "a    20\n",
       "b    10\n",
       "c    40\n",
       "d    50\n",
       "e    60\n",
       "f    30\n",
       "g    70\n",
       "h    80\n",
       "Name: my_series, dtype: int64"
      ]
     },
     "execution_count": 1,
     "metadata": {},
     "output_type": "execute_result"
    }
   ],
   "source": [
    "import pandas as pd\n",
    "\n",
    "data = [20, 10, 40, 50, 60, 30, 70, 80]\n",
    "index = ['a', 'b', 'c', 'd', 'e', 'f', 'g', 'h']\n",
    "\n",
    "series = pd.Series(data, index=index, name='my_series')\n",
    "series"
   ]
  },
  {
   "cell_type": "markdown",
   "metadata": {},
   "source": [
    "#### 2. 대괄호를 이용한 인덱싱\n",
    "###### value_at_b에는 인덱스가 'b'인 데이터를 추출하고,\n",
    "###### value_at_three에는 인덱스가 3번째(0부터 숫자를 세어서) 값을 추출해 봅시다."
   ]
  },
  {
   "cell_type": "code",
   "execution_count": 11,
   "metadata": {},
   "outputs": [
    {
     "name": "stdout",
     "output_type": "stream",
     "text": [
      "a    20\n",
      "b    10\n",
      "c    40\n",
      "d    50\n",
      "e    60\n",
      "f    30\n",
      "g    70\n",
      "h    80\n",
      "Name: my_series, dtype: int64\n",
      "index b : 10\n",
      "3번째 값(0부터시작):  50\n"
     ]
    },
    {
     "name": "stderr",
     "output_type": "stream",
     "text": [
      "C:\\Users\\NT930QCG\\AppData\\Local\\Temp\\ipykernel_26520\\960590117.py:2: FutureWarning: Series.__getitem__ treating keys as positions is deprecated. In a future version, integer keys will always be treated as labels (consistent with DataFrame behavior). To access a value by position, use `ser.iloc[pos]`\n",
      "  value_at_three = series[3]\n"
     ]
    }
   ],
   "source": [
    "value_at_b = series['b']\n",
    "value_at_three = series[3]\n",
    "\n",
    "print(series)\n",
    "print('index b :', value_at_b)\n",
    "print('3번째 값(0부터시작): ', value_at_three)"
   ]
  },
  {
   "cell_type": "markdown",
   "metadata": {},
   "source": [
    "#### 3. 라벨 기반 인덱싱\n",
    "###### loc를 이용해 라벨 기반 인덱싱을 연습해 봅시다.\n",
    "###### 인덱스가'b'인 데이터를 추출하세요."
   ]
  },
  {
   "cell_type": "code",
   "execution_count": 22,
   "metadata": {},
   "outputs": [
    {
     "data": {
      "text/plain": [
       "10"
      ]
     },
     "execution_count": 22,
     "metadata": {},
     "output_type": "execute_result"
    }
   ],
   "source": [
    "value_at_b = series.loc['b']\n",
    "value_at_b"
   ]
  },
  {
   "cell_type": "markdown",
   "metadata": {},
   "source": [
    "#### 4. 정수 기반 인덱싱\n",
    "###### iloc를 이용해서 정수 기반 인덱싱을 연습해 봅시다.\n",
    "###### 1번째(0부터 시작해서) 데이터를 추출하세요."
   ]
  },
  {
   "cell_type": "code",
   "execution_count": 24,
   "metadata": {},
   "outputs": [
    {
     "data": {
      "text/plain": [
       "10"
      ]
     },
     "execution_count": 24,
     "metadata": {},
     "output_type": "execute_result"
    }
   ],
   "source": [
    "value_at_one = series.iloc[1]\n",
    "value_at_one"
   ]
  },
  {
   "cell_type": "markdown",
   "metadata": {},
   "source": [
    "#### 5. 대괄호를 이용한 인덱싱\n",
    "###### value_b_to_d에는 'b'부터 'd'까지\n",
    "###### value_2_to_before_5에는 2부터 5 이전까지 데이터를 추출해 봅시다."
   ]
  },
  {
   "cell_type": "code",
   "execution_count": 27,
   "metadata": {},
   "outputs": [
    {
     "name": "stdout",
     "output_type": "stream",
     "text": [
      "b    10\n",
      "c    40\n",
      "d    50\n",
      "Name: my_series, dtype: int64\n",
      "c    40\n",
      "d    50\n",
      "e    60\n",
      "Name: my_series, dtype: int64\n"
     ]
    }
   ],
   "source": [
    "value_b_to_d = series['b' : 'd']\n",
    "print(value_b_to_d)\n",
    "\n",
    "value_2_to_before_5 = series[2 : 5]\n",
    "print(value_2_to_before_5)x"
   ]
  },
  {
   "cell_type": "markdown",
   "metadata": {},
   "source": [
    "#### 6. 라벨 기반 슬라이싱"
   ]
  },
  {
   "cell_type": "code",
   "execution_count": null,
   "metadata": {},
   "outputs": [],
   "source": [
    "sliced_series = series.loc['b':'d']\n",
    "sliced_series"
   ]
  },
  {
   "cell_type": "markdown",
   "metadata": {},
   "source": [
    "#### 3. 라벨 기반 인덱싱\n",
    "###### loc를 이용해 라벨 기반 인덱싱을 연습해 봅시다.\n",
    "###### 인덱스가'b'인 데이터를 추출하세요."
   ]
  }
 ],
 "metadata": {
  "kernelspec": {
   "display_name": "Python 3",
   "language": "python",
   "name": "python3"
  },
  "language_info": {
   "codemirror_mode": {
    "name": "ipython",
    "version": 3
   },
   "file_extension": ".py",
   "mimetype": "text/x-python",
   "name": "python",
   "nbconvert_exporter": "python",
   "pygments_lexer": "ipython3",
   "version": "3.9.5"
  }
 },
 "nbformat": 4,
 "nbformat_minor": 2
}
