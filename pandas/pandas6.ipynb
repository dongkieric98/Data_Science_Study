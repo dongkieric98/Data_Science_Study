{
 "cells": [
  {
   "cell_type": "markdown",
   "metadata": {},
   "source": [
    "#### 1. 시리즈 생성하기"
   ]
  },
  {
   "cell_type": "code",
   "execution_count": 1,
   "metadata": {},
   "outputs": [],
   "source": [
    "import pandas as pd\n",
    "\n",
    "data = [1, 2, 3, 4, 5]\n",
    "series = pd.Series(data)"
   ]
  },
  {
   "cell_type": "markdown",
   "metadata": {},
   "source": [
    "#### 2. apply 메서드"
   ]
  },
  {
   "cell_type": "code",
   "execution_count": 2,
   "metadata": {},
   "outputs": [
    {
     "data": {
      "text/plain": [
       "0    5\n",
       "1    6\n",
       "2    5\n",
       "3    6\n",
       "4    7\n",
       "dtype: int64"
      ]
     },
     "execution_count": 2,
     "metadata": {},
     "output_type": "execute_result"
    }
   ],
   "source": [
    "def custom_function(x):\n",
    "    # 사용자 정의 함수의 내용을 작성\n",
    "    if x >= 3:\n",
    "        result = x + 2\n",
    "    else:\n",
    "        result = x + 4\n",
    "    return result\n",
    "\n",
    "result_series = series.apply(custom_function)\n",
    "result_series"
   ]
  },
  {
   "cell_type": "markdown",
   "metadata": {},
   "source": [
    "#### 3. apply 메서드와 lambda 함수"
   ]
  },
  {
   "cell_type": "code",
   "execution_count": 4,
   "metadata": {},
   "outputs": [
    {
     "data": {
      "text/plain": [
       "0    5\n",
       "1    6\n",
       "2    5\n",
       "3    6\n",
       "4    7\n",
       "dtype: int64"
      ]
     },
     "execution_count": 4,
     "metadata": {},
     "output_type": "execute_result"
    }
   ],
   "source": [
    "result_series = series.apply(lambda x: x + 2 if x >= 3 else x + 4)\n",
    "result_series"
   ]
  },
  {
   "cell_type": "markdown",
   "metadata": {},
   "source": [
    "#### 4. map 메서드"
   ]
  },
  {
   "cell_type": "code",
   "execution_count": 6,
   "metadata": {},
   "outputs": [
    {
     "data": {
      "text/plain": [
       "0     1\n",
       "1     4\n",
       "2     9\n",
       "3    16\n",
       "4    25\n",
       "dtype: int64"
      ]
     },
     "execution_count": 6,
     "metadata": {},
     "output_type": "execute_result"
    }
   ],
   "source": [
    "result_series = series.map(lambda x: x ** 2)\n",
    "result_series"
   ]
  },
  {
   "cell_type": "markdown",
   "metadata": {},
   "source": [
    "#### 5. replace 메서드\n",
    "###### 과일로 구성된 시리즈를 만드세요. 그리고 시리즈에서 'banana'값을 'orange'값으로 대체해 result_series에 저장해 봅시다."
   ]
  },
  {
   "cell_type": "code",
   "execution_count": 7,
   "metadata": {},
   "outputs": [
    {
     "data": {
      "text/plain": [
       "0     apple\n",
       "1    orange\n",
       "2    cherry\n",
       "dtype: object"
      ]
     },
     "execution_count": 7,
     "metadata": {},
     "output_type": "execute_result"
    }
   ],
   "source": [
    "data = ['apple', 'banana', 'cherry']\n",
    "series = pd.Series(data)\n",
    "\n",
    "# 'banana'를 'orange'로 대체\n",
    "result_series = series.replace('banana', 'orange')\n",
    "result_series"
   ]
  },
  {
   "cell_type": "markdown",
   "metadata": {},
   "source": [
    "#### 6. replace 함수2\n",
    "###### 'banana'를 'orange', 'apple'을 'strawberry'로 대체하세요"
   ]
  },
  {
   "cell_type": "code",
   "execution_count": 8,
   "metadata": {},
   "outputs": [
    {
     "data": {
      "text/plain": [
       "0    strawberry\n",
       "1        orange\n",
       "2        cherry\n",
       "dtype: object"
      ]
     },
     "execution_count": 8,
     "metadata": {},
     "output_type": "execute_result"
    }
   ],
   "source": [
    "replace_dict = {'banana': 'orange', 'apple': 'strawberry'}\n",
    "result_series = series.replace(replace_dict)\n",
    "result_series"
   ]
  },
  {
   "cell_type": "markdown",
   "metadata": {},
   "source": [
    "#### 7. replace 함수3\n",
    "###### a로 시작하는 값을 fruit으로 변경"
   ]
  },
  {
   "cell_type": "code",
   "execution_count": 10,
   "metadata": {},
   "outputs": [
    {
     "data": {
      "text/plain": [
       "0    fruitpple\n",
       "1       banana\n",
       "2       cherry\n",
       "dtype: object"
      ]
     },
     "execution_count": 10,
     "metadata": {},
     "output_type": "execute_result"
    }
   ],
   "source": [
    "result_series = series.replace('^a', 'fruit', regex=True)\n",
    "result_series"
   ]
  },
  {
   "cell_type": "markdown",
   "metadata": {},
   "source": [
    "#### 8. cut() 함수\n",
    "###### 0초과~30이하는 low, 30초과 60이하는 High로 값을 변경해 봅시다"
   ]
  },
  {
   "cell_type": "code",
   "execution_count": 11,
   "metadata": {},
   "outputs": [
    {
     "data": {
      "text/plain": [
       "0     Low\n",
       "1     Low\n",
       "2     Low\n",
       "3    High\n",
       "4    High\n",
       "dtype: category\n",
       "Categories (2, object): ['Low' < 'High']"
      ]
     },
     "execution_count": 11,
     "metadata": {},
     "output_type": "execute_result"
    }
   ],
   "source": [
    "data = [10, 20, 30, 40, 50]\n",
    "series = pd.Series(data)\n",
    "\n",
    "# 구간을 정의합니다.\n",
    "bins = [0, 30, 60]\n",
    "\n",
    "# 라벨을 만들어줍니다.\n",
    "labels = ['Low', 'High']\n",
    "\n",
    "# cut 함수를 사용하여 값을 나눕니다.\n",
    "result_series = pd.cut(series, bins, labels=labels)\n",
    "result_series"
   ]
  },
  {
   "cell_type": "markdown",
   "metadata": {},
   "source": [
    "#### 9. apply 메서드 연습문제\n",
    "###### 시리즈에서 홀수값을 찾아 제곱한 값을 구하고, 짝수값은 그대로 반환하는 함수를 작성하세요. \n",
    "###### 그리고 apply 함수를 사용하여 시리즈를 변환해 result_series에 값을 저장하세요."
   ]
  },
  {
   "cell_type": "code",
   "execution_count": 15,
   "metadata": {},
   "outputs": [
    {
     "data": {
      "text/plain": [
       "0     1\n",
       "1     2\n",
       "2     9\n",
       "3     4\n",
       "4    25\n",
       "5     6\n",
       "dtype: int64"
      ]
     },
     "execution_count": 15,
     "metadata": {},
     "output_type": "execute_result"
    }
   ],
   "source": [
    "data = [1, 2, 3, 4, 5, 6]\n",
    "series = pd.Series(data)\n",
    "\n",
    "def square_odd_or_return_even(x):\n",
    "    if x%2 == 0:\n",
    "        return x\n",
    "    else:\n",
    "        return x**2\n",
    "# apply 함수를 사용하여 시리즈를 변환\n",
    "result_series = series.apply(square_odd_or_return_even)\n",
    "result_series"
   ]
  },
  {
   "cell_type": "markdown",
   "metadata": {},
   "source": [
    "#### 10. map 메서드 연습문제\n",
    "###### 주어진 시리즈에서 3의 배수를 찾아서 그 값을 2배로 만들고, 3의 배수가 아닌경우 중에서 4의 배수는 3배로 만들어 줍니다. \n",
    "###### 3의 배수도, 4의 배수도 아닌경우에는 그대로 출력하는 새로운 시리즈를 생성하세요."
   ]
  },
  {
   "cell_type": "code",
   "execution_count": 17,
   "metadata": {},
   "outputs": [
    {
     "data": {
      "text/plain": [
       "0     1\n",
       "1     2\n",
       "2     6\n",
       "3    12\n",
       "4     5\n",
       "5    12\n",
       "6     7\n",
       "7    24\n",
       "8    18\n",
       "9    10\n",
       "dtype: int64"
      ]
     },
     "execution_count": 17,
     "metadata": {},
     "output_type": "execute_result"
    }
   ],
   "source": [
    "data = [1, 2, 3, 4, 5, 6, 7, 8, 9, 10]\n",
    "series = pd.Series(data)\n",
    "\n",
    "def custom_function(x):\n",
    "    if x % 3 == 0:\n",
    "        return x*2\n",
    "    else:\n",
    "        if x % 4 ==0:\n",
    "            return x*3\n",
    "        else:\n",
    "            return x\n",
    "\n",
    "result_series = series.apply(custom_function)\n",
    "result_series"
   ]
  },
  {
   "cell_type": "markdown",
   "metadata": {},
   "source": [
    "#### 11. replace 메서드 연습문제\n",
    "###### 시리즈에서 특정 값을 다른 값으로 교체해보세요.\n",
    "###### replace 함수를 사용하여 시리즈에서 30을 35로, 40을 45로 교체하세요.\n",
    "###### 변환된 값을 포함하는 새로운 시리즈를 생성하세요."
   ]
  },
  {
   "cell_type": "code",
   "execution_count": 18,
   "metadata": {},
   "outputs": [
    {
     "data": {
      "text/plain": [
       "0    10\n",
       "1    20\n",
       "2    35\n",
       "3    40\n",
       "4    50\n",
       "5    60\n",
       "dtype: int64"
      ]
     },
     "execution_count": 18,
     "metadata": {},
     "output_type": "execute_result"
    }
   ],
   "source": [
    "data = [10, 20, 30, 40, 50, 60]\n",
    "series = pd.Series(data)\n",
    "\n",
    "# replace 함수를 사용하여 값을 교체\n",
    "result_series = series.replace(30,35,40,)\n",
    "result_series"
   ]
  }
 ],
 "metadata": {
  "kernelspec": {
   "display_name": "Python 3",
   "language": "python",
   "name": "python3"
  },
  "language_info": {
   "codemirror_mode": {
    "name": "ipython",
    "version": 3
   },
   "file_extension": ".py",
   "mimetype": "text/x-python",
   "name": "python",
   "nbconvert_exporter": "python",
   "pygments_lexer": "ipython3",
   "version": "3.9.5"
  }
 },
 "nbformat": 4,
 "nbformat_minor": 2
}
